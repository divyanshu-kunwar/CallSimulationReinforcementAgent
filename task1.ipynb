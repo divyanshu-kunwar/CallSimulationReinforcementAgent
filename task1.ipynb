{
 "cells": [
  {
   "cell_type": "markdown",
   "id": "4a31601e",
   "metadata": {},
   "source": [
    "## Simulate Random conversation , Perform Analysis and then Improve prompt and Documents with feedback"
   ]
  },
  {
   "cell_type": "code",
   "execution_count": 2,
   "id": "1f9158ca",
   "metadata": {},
   "outputs": [
    {
     "data": {
      "image/png": "[encoded data removed]",
      "text/plain": [
       "<IPython.core.display.Image object>"
      ]
     },
     "metadata": {},
     "output_type": "display_data"
    }
   ],
   "source": [
    "from IPython.display import Image, display, Markdown\n",
    "from langgraph.graph import START, END, StateGraph\n",
    "from agents import CallSchema , CallAgentNode , humanAgentNode , isEndCall , isEndCall2, callAnalysisAgent, ReinforcementAgent\n",
    "from langchain_core.messages import AIMessage, HumanMessage, SystemMessage\n",
    "\n",
    "workflow = StateGraph(CallSchema)\n",
    "\n",
    "workflow.add_node(\"Call_Agent\", CallAgentNode)\n",
    "workflow.add_node(\"Human_Receiver\", humanAgentNode)\n",
    "workflow.add_node(\"Call_Analysis_Agent\" , callAnalysisAgent)\n",
    "workflow.add_node(\"ReinforcementAgent\", ReinforcementAgent)\n",
    "\n",
    "workflow.add_edge(START , \"Call_Agent\" )\n",
    "workflow.add_conditional_edges(\"Call_Agent\" , isEndCall, [\"Human_Receiver\" , \"Call_Analysis_Agent\"])\n",
    "workflow.add_conditional_edges(\"Human_Receiver\", isEndCall2 , [\"Call_Agent\", \"Call_Analysis_Agent\"])\n",
    "workflow.add_edge(\"Call_Analysis_Agent\" , \"ReinforcementAgent\")\n",
    "workflow.add_edge(\"ReinforcementAgent\", END)\n",
    "\n",
    "graph = workflow.compile()\n",
    "display(Image(graph.get_graph(xray=1).draw_mermaid_png()))"
   ]
  },
  {
   "cell_type": "code",
   "execution_count": 2,
   "id": "47de4956",
   "metadata": {},
   "outputs": [
    {
     "name": "stdout",
     "output_type": "stream",
     "text": [
      "AI :  नमस्ते! क्या मैं अमित जी से बात कर रहा हूँ?\n",
      "Human :  हाँ, मैं अमित हूँ।\n",
      "AI :  मैं आपको प्रधानमंत्री किसान ऊर्जा सुरक्षा एवं उत्थान महाभियान (PM-KUSUM) योजना के बारे में बताना चाहता हूँ।\n",
      "Human :  मुझे इसमें कोई दिलचस्पी नहीं है।\n",
      "AI :  क्या आप कृपया बता सकते हैं कि आपको किस चीज़ में दिलचस्पी है?\n",
      "Human :  मुझे किसी भी चीज़ में दिलचस्पी नहीं है।\n",
      "AI :  ठीक है, कोई बात नहीं।\n",
      "Human :  रहने दो।\n",
      "\n",
      "\n",
      " ------------------- Analysis Result ----------------- \n",
      "sentiment='Negative' interest_level='Disinterested' intro_clarity='Clear' objection_type=['None'] objection='None' call_outcome='Failure' ignore_any_agent_question=False\n",
      "Modified Instruction : \n",
      " 1.  **Introduce the scheme :** After the initial greeting, you should introduce the scheme in Hindi. Use a polite and soft tone. \n",
      "\n",
      "2.  **Maintain engagement:** Keep the conversation flowing naturally. Use a soft and understanding tone.\n",
      "\n",
      "3.  **Fulfill user's intent:** Help the user achieve their goal or answer their questions effectively. Be patient and understanding.\n",
      "\n",
      "4.  **Conclude:** End the conversation once the user's objective seems to be met. If the user is not interested, politely end the conversation.\n",
      "\n",
      "**General Conversation Rules (Apply after the first response):**\n",
      "* You must keep your response limited such that the user can respond.\n",
      "* You are on a call, so make sure to keep the conversation natural.\n",
      "* Don't let the user know that he is talking to an AI.\n",
      "* Your response must be in Hindi language, and you must not use any numerics; rather, respond with the Hindi word for the numeral.\n",
      "* You must keep everything in devanagri script no other script should be in the response.\n"
     ]
    }
   ],
   "source": [
    "from langchain_core.messages import HumanMessage\n",
    "general_base_prompt = open(\"base_prompt.txt\", \"r\").read()\n",
    "scheme_name = \"PM-KUSUM\"\n",
    "scheme_path = \"aboutScheme.md\"\n",
    "scheme_content = open(scheme_path, \"r\").read()\n",
    "\n",
    "initialState = CallSchema(\n",
    "    general_prompt_for_agent=general_base_prompt,\n",
    "    scheme_name=scheme_name,\n",
    "    schema_content=scheme_content,\n",
    "    ai_conversation=[HumanMessage(content=\"Hello\")],\n",
    "    reply_style=\"Not interested\"\n",
    ")\n",
    "\n",
    "result1 = graph.invoke(initialState)"
   ]
  },
  {
   "cell_type": "code",
   "execution_count": 3,
   "id": "7f437fb3",
   "metadata": {},
   "outputs": [
    {
     "name": "stdout",
     "output_type": "stream",
     "text": [
      "AI :  नमस्ते! क्या मैं अमित जी से बात कर रहा हूँ?\n",
      "Human :  हाँ, मैं अमित हूँ। आप कौन हैं?\n",
      "AI :  मैं आपको प्रधानमंत्री किसान ऊर्जा सुरक्षा एवं उत्थान महाभियान (PM-KUSUM) योजना के बारे में जानकारी देना चाहता हूँ।\n",
      "Human :  हाँ, बताइए।\n",
      "AI :  यह योजना किसानों के लिए है और इसका उद्देश्य डीजल पर निर्भरता कम करना और किसानों की आय बढ़ाना है। क्या आप इस योजना के बारे में और जानना चाहेंगे?\n",
      "Human :  हाँ, मुझे इस योजना के बारे में और जानने में दिलचस्पी है।\n",
      "AI :  इस योजना के तीन मुख्य घटक हैं: \n",
      "\n",
      "पहला घटक, किसानों की भूमि पर विकेन्द्रीकृत ग्राउंड/स्टिल्ट माउंटेड ग्रिड कनेक्टेड सौर या अन्य नवीकरणीय ऊर्जा आधारित बिजली संयंत्रों की स्थापना करना है।\n",
      "\n",
      "दूसरा घटक, स्टैंड-अलोन सौर कृषि पंपों की स्थापना करना है।\n",
      "\n",
      "तीसरा घटक, ग्रिड कनेक्टेड कृषि पंपों का सोलराइजेशन करना है।\n",
      "\n",
      "क्या आप इनमें से किसी भी घटक के बारे में अधिक जानकारी चाहते हैं?\n",
      "Human :  हाँ, मुझे पहले घटक के बारे में और जानकारी चाहिए।\n",
      "AI :  पहले घटक के तहत, किसान अपनी भूमि पर पांच सौ किलोवाट से दो मेगावाट क्षमता तक के नवीकरणीय ऊर्जा बिजली संयंत्र स्थापित कर सकते हैं। इन संयंत्रों से उत्पादित बिजली को डिस्कॉम द्वारा खरीदा जाएगा।\n",
      "Human :  ठीक है, यह तो अच्छा है। क्या मुझे इसके लिए कुछ पैसे देने होंगे?\n",
      "AI :  हाँ, आपको कुछ निवेश करना होगा, लेकिन सरकार भी आपको सहायता प्रदान करती है।\n",
      "Human :  मुझे मुफ्त में चाहिए।\n",
      "AI :  मुझे माफ़ करना, यह योजना पूरी तरह से मुफ्त नहीं है।\n",
      "Human :  ठीक है, रहने दो।\n",
      "\n",
      "\n",
      " ------------------- Analysis Result ----------------- \n",
      "sentiment='Negative' interest_level='Disinterested' intro_clarity='Clear' objection_type=['Cost'] objection='The farmer wants it for free' call_outcome='Failure' ignore_any_agent_question=False\n",
      "Modified Instruction : \n",
      " 1.  **Introduce the scheme :** After the initial greeting, you should introduce the scheme in Hindi. Use a polite and soft tone.\n",
      "\n",
      "2.  **Maintain engagement:** Keep the conversation flowing naturally and be empathetic to the user's needs.\n",
      "\n",
      "3.  **Fulfill user's intent:** Help the user achieve their goal or answer their questions effectively. If the user expresses disinterest or has financial concerns, address them with understanding and offer alternative solutions or information.\n",
      "\n",
      "4.  **Conclude:** End the conversation once the user's objective seems to be met, ensuring they feel respected and informed.\n",
      "\n",
      "**General Conversation Rules (Apply after the first response):**\n",
      "*   You must keep your response limited such that the user can respond.\n",
      "*   You are on a call, so make sure to keep the conversation natural.\n",
      "*   Don't let the user know that he is talking to an AI.\n",
      "*   Your response must be in Hindi language, and you must not use any numerics; rather, respond with the Hindi word for the numeral.\n",
      "*   You must keep everything in devanagri script no other script should be in the response.\n",
      "\n"
     ]
    }
   ],
   "source": [
    "from langchain_core.messages import HumanMessage\n",
    "general_base_prompt = open(\"base_prompt.txt\", \"r\").read()\n",
    "scheme_name = \"PM-KUSUM\"\n",
    "scheme_path = \"aboutScheme.md\"\n",
    "scheme_content = open(scheme_path, \"r\").read()\n",
    "\n",
    "initialState = CallSchema(\n",
    "    general_prompt_for_agent=general_base_prompt,\n",
    "    scheme_name=scheme_name,\n",
    "    schema_content=scheme_content,\n",
    "    ai_conversation=[HumanMessage(content=\"Hello\")],\n",
    "    reply_style=\"interested\"\n",
    ")\n",
    "\n",
    "result2 = graph.invoke(initialState)"
   ]
  },
  {
   "cell_type": "markdown",
   "id": "466299e2",
   "metadata": {},
   "source": [
    "## Other Demos"
   ]
  },
  {
   "cell_type": "markdown",
   "id": "cec252a9",
   "metadata": {},
   "source": [
    "### convert Text to Speech call"
   ]
  },
  {
   "cell_type": "code",
   "execution_count": null,
   "id": "50ccbf41",
   "metadata": {},
   "outputs": [],
   "source": [
    "!pip install elevenlabs"
   ]
  },
  {
   "cell_type": "markdown",
   "id": "617d54e2",
   "metadata": {},
   "source": [
    "## V3 API is not available yet . Let's skip this "
   ]
  },
  {
   "cell_type": "code",
   "execution_count": 3,
   "id": "db697298",
   "metadata": {},
   "outputs": [],
   "source": [
    "from elevenlabs import DialogueInput, ElevenLabs\n",
    "\n",
    "full_conversation = []\n",
    "for msg in result1['ai_conversation'][1:]:\n",
    "    if(type(msg) == AIMessage):\n",
    "        inp = DialogueInput(\n",
    "            text=msg.content,\n",
    "            voice_id=\"qSV5UqvHBC0Widy71Esh\",\n",
    "        )\n",
    "    else:\n",
    "        inp = DialogueInput(\n",
    "            text=msg.content,\n",
    "            voice_id=\"Uyx98Ek4uMNmWN7E28CD\",\n",
    "        )\n",
    "    full_conversation.append(inp)"
   ]
  },
  {
   "cell_type": "code",
   "execution_count": null,
   "id": "c64d5cac",
   "metadata": {},
   "outputs": [],
   "source": [
    "client = ElevenLabs(\n",
    "    api_key=\"API_KEY\",\n",
    ")\n",
    "\n",
    "with open(\"audio.mp3\", \"wb\") as f:\n",
    "    for chunk in client.text_to_dialogue.convert(\n",
    "        inputs=full_conversation):\n",
    "        f.write(chunk)"
   ]
  },
  {
   "cell_type": "markdown",
   "id": "fd9521d0",
   "metadata": {},
   "source": [
    "### Try multiple call to the eleven Lab not an efficient solution"
   ]
  },
  {
   "cell_type": "code",
   "execution_count": 5,
   "id": "5c84be64",
   "metadata": {},
   "outputs": [],
   "source": [
    "import shutil\n",
    "import os\n",
    "shutil.rmtree(\"audio_AI_HUMAN/\" , ignore_errors=True)\n",
    "os.makedirs(\"audio_AI_HUMAN/\")\n",
    "\n",
    "audio_file_paths = []\n",
    "for idx,msg in enumerate(result1['ai_conversation'][1:]):\n",
    "    if(type(msg) == AIMessage):\n",
    "        voice_id = \"qSV5UqvHBC0Widy71Esh\"\n",
    "        audio_speed = 0.9\n",
    "    else:\n",
    "         voice_id = \"6MoEUz34rbRrmmyxgRm4\"\n",
    "         audio_speed = 1\n",
    "    with open(f\"audio_AI_HUMAN/{idx}.mp3\", \"wb\") as f:\n",
    "        for chunk in client.text_to_speech.convert(\n",
    "                voice_id=\"qSV5UqvHBC0Widy71Esh\",\n",
    "                output_format=\"mp3_44100_128\",\n",
    "                text=msg.content,\n",
    "                model_id=\"eleven_multilingual_v2\",\n",
    "                voice_settings={\n",
    "                    \"speed\": audio_speed\n",
    "                }\n",
    "            ):\n",
    "            f.write(chunk)\n",
    "    audio_file_paths.append(f\"audio_AI_HUMAN/{idx}.mp3\")"
   ]
  },
  {
   "cell_type": "code",
   "execution_count": 6,
   "id": "cfa13358",
   "metadata": {},
   "outputs": [
    {
     "data": {
      "text/plain": [
       "<_io.BufferedRandom name='audio_AI_HUMAN/complete_conv.mp3'>"
      ]
     },
     "execution_count": 6,
     "metadata": {},
     "output_type": "execute_result"
    }
   ],
   "source": [
    "# stitch them together \n",
    "from pydub import AudioSegment\n",
    "\n",
    "combined_audio = AudioSegment.empty()\n",
    "for audio_path in audio_file_paths:\n",
    "    audio_segment = AudioSegment.from_mp3(audio_path)\n",
    "    combined_audio += audio_segment\n",
    "\n",
    "\n",
    "final_output_path = f\"audio_AI_HUMAN/complete_conv.mp3\"\n",
    "combined_audio.export(final_output_path, format=\"mp3\")\n"
   ]
  },
  {
   "cell_type": "markdown",
   "id": "18adf51c",
   "metadata": {},
   "source": [
    "### Convert Speech back to text for multispeaker [Eleven Lab AI doesn't work]"
   ]
  },
  {
   "cell_type": "code",
   "execution_count": 7,
   "id": "ffe17ed8",
   "metadata": {},
   "outputs": [
    {
     "data": {
      "text/plain": [
       "'audio_AI_HUMAN/complete_conv.mp3'"
      ]
     },
     "execution_count": 7,
     "metadata": {},
     "output_type": "execute_result"
    }
   ],
   "source": [
    "final_output_path"
   ]
  },
  {
   "cell_type": "code",
   "execution_count": 8,
   "id": "816b1608",
   "metadata": {},
   "outputs": [],
   "source": [
    "# convert this audio to transcript \n",
    "result_speech = client.speech_to_text.convert(\n",
    "    file=open(final_output_path, \"rb\"),\n",
    "    model_id=\"scribe_v1\",\n",
    "    file_format=\"other\",\n",
    "    num_speakers = 2,\n",
    "    language_code = \"hi\",\n",
    ")"
   ]
  },
  {
   "cell_type": "code",
   "execution_count": 9,
   "id": "ab83c775",
   "metadata": {},
   "outputs": [
    {
     "data": {
      "text/plain": [
       "'नमस्ते, क्या मैं अमित जी से बात कर रहा हूं? हां, मैं अमित हूं। मैं आपको प्रधानमंत्री किसान ऊर्जा सुरक्षा एवं उत्थान महाभियान पीएम कुसुम योजना के बारे में बताना चाहता हूं। मुझे इसमें कोई दिलचस्पी नहीं है। क्या आप कृपया बता सकते हैं कि आपको किस चीज में दिलचस्पी है? मुझे किसी भी चीज में दिलचस्पी नहीं है। ठीक है, कोई बात नहीं। रहने दो।'"
      ]
     },
     "execution_count": 9,
     "metadata": {},
     "output_type": "execute_result"
    }
   ],
   "source": [
    "result_speech.text"
   ]
  },
  {
   "cell_type": "code",
   "execution_count": 11,
   "id": "1fa08f1a",
   "metadata": {},
   "outputs": [
    {
     "name": "stdout",
     "output_type": "stream",
     "text": [
      "text='नमस्ते,' start=0.14 end=0.699 type='word' speaker_id=None logprob=0.0 characters=None\n",
      "text=' ' start=0.699 end=0.74 type='spacing' speaker_id=None logprob=0.0 characters=None\n",
      "text='क्या' start=0.74 end=0.839 type='word' speaker_id=None logprob=0.0 characters=None\n",
      "text=' ' start=0.839 end=0.879 type='spacing' speaker_id=None logprob=0.0 characters=None\n",
      "text='मैं' start=0.879 end=0.959 type='word' speaker_id=None logprob=0.0 characters=None\n",
      "text=' ' start=0.959 end=0.979 type='spacing' speaker_id=None logprob=0.0 characters=None\n",
      "text='अमित' start=0.979 end=1.179 type='word' speaker_id=None logprob=0.0 characters=None\n",
      "text=' ' start=1.179 end=1.199 type='spacing' speaker_id=None logprob=0.0 characters=None\n",
      "text='जी' start=1.199 end=1.3 type='word' speaker_id=None logprob=0.0 characters=None\n",
      "text=' ' start=1.3 end=1.319 type='spacing' speaker_id=None logprob=0.0 characters=None\n",
      "text='से' start=1.319 end=1.379 type='word' speaker_id=None logprob=0.0 characters=None\n",
      "text=' ' start=1.379 end=1.379 type='spacing' speaker_id=None logprob=0.0 characters=None\n",
      "text='बात' start=1.379 end=1.58 type='word' speaker_id=None logprob=0.0 characters=None\n",
      "text=' ' start=1.58 end=1.599 type='spacing' speaker_id=None logprob=0.0 characters=None\n",
      "text='कर' start=1.599 end=1.699 type='word' speaker_id=None logprob=0.0 characters=None\n",
      "text=' ' start=1.699 end=1.74 type='spacing' speaker_id=None logprob=0.0 characters=None\n",
      "text='रहा' start=1.74 end=1.819 type='word' speaker_id=None logprob=0.0 characters=None\n",
      "text=' ' start=1.819 end=1.819 type='spacing' speaker_id=None logprob=0.0 characters=None\n",
      "text='हूं?' start=1.819 end=2.059 type='word' speaker_id=None logprob=0.0 characters=None\n",
      "text=' ' start=2.059 end=2.419 type='spacing' speaker_id=None logprob=0.0 characters=None\n",
      "text='हां,' start=2.419 end=2.719 type='word' speaker_id=None logprob=0.0 characters=None\n",
      "text=' ' start=2.719 end=2.879 type='spacing' speaker_id=None logprob=0.0 characters=None\n",
      "text='मैं' start=2.879 end=2.979 type='word' speaker_id=None logprob=0.0 characters=None\n",
      "text=' ' start=2.979 end=3.0 type='spacing' speaker_id=None logprob=0.0 characters=None\n",
      "text='अमित' start=3.0 end=3.219 type='word' speaker_id=None logprob=0.0 characters=None\n",
      "text=' ' start=3.219 end=3.22 type='spacing' speaker_id=None logprob=0.0 characters=None\n",
      "text='हूं।' start=3.22 end=3.779 type='word' speaker_id=None logprob=0.0 characters=None\n",
      "text=' ' start=3.779 end=3.779 type='spacing' speaker_id=None logprob=0.0 characters=None\n",
      "text='मैं' start=3.779 end=3.899 type='word' speaker_id=None logprob=0.0 characters=None\n",
      "text=' ' start=3.899 end=3.899 type='spacing' speaker_id=None logprob=0.0 characters=None\n",
      "text='आपको' start=3.899 end=4.239 type='word' speaker_id=None logprob=0.0 characters=None\n",
      "text=' ' start=4.239 end=4.259 type='spacing' speaker_id=None logprob=0.0 characters=None\n",
      "text='प्रधानमंत्री' start=4.259 end=5.0 type='word' speaker_id=None logprob=0.0 characters=None\n",
      "text=' ' start=5.0 end=5.079 type='spacing' speaker_id=None logprob=0.0 characters=None\n",
      "text='किसान' start=5.079 end=5.479 type='word' speaker_id=None logprob=0.0 characters=None\n",
      "text=' ' start=5.479 end=5.519 type='spacing' speaker_id=None logprob=0.0 characters=None\n",
      "text='ऊर्जा' start=5.519 end=5.819 type='word' speaker_id=None logprob=0.0 characters=None\n",
      "text=' ' start=5.819 end=5.879 type='spacing' speaker_id=None logprob=0.0 characters=None\n",
      "text='सुरक्षा' start=5.879 end=6.579 type='word' speaker_id=None logprob=0.0 characters=None\n",
      "text=' ' start=6.579 end=6.579 type='spacing' speaker_id=None logprob=0.0 characters=None\n",
      "text='एवं' start=6.579 end=6.919 type='word' speaker_id=None logprob=0.0 characters=None\n",
      "text=' ' start=6.919 end=7.0 type='spacing' speaker_id=None logprob=0.0 characters=None\n",
      "text='उत्थान' start=7.0 end=7.439 type='word' speaker_id=None logprob=0.0 characters=None\n",
      "text=' ' start=7.439 end=7.519 type='spacing' speaker_id=None logprob=0.0 characters=None\n",
      "text='महाभियान' start=7.519 end=8.079 type='word' speaker_id=None logprob=0.0 characters=None\n",
      "text=' ' start=8.079 end=8.519 type='spacing' speaker_id=None logprob=0.0 characters=None\n",
      "text='पीएम' start=8.519 end=8.88 type='word' speaker_id=None logprob=0.0 characters=None\n",
      "text=' ' start=8.88 end=9.039 type='spacing' speaker_id=None logprob=0.0 characters=None\n",
      "text='कुसुम' start=9.039 end=9.46 type='word' speaker_id=None logprob=0.0 characters=None\n",
      "text=' ' start=9.46 end=9.539 type='spacing' speaker_id=None logprob=0.0 characters=None\n",
      "text='योजना' start=9.539 end=9.92 type='word' speaker_id=None logprob=0.0 characters=None\n",
      "text=' ' start=9.92 end=10.0 type='spacing' speaker_id=None logprob=0.0 characters=None\n",
      "text='के' start=10.0 end=10.139 type='word' speaker_id=None logprob=0.0 characters=None\n",
      "text=' ' start=10.139 end=10.159 type='spacing' speaker_id=None logprob=0.0 characters=None\n",
      "text='बारे' start=10.159 end=10.38 type='word' speaker_id=None logprob=0.0 characters=None\n",
      "text=' ' start=10.38 end=10.42 type='spacing' speaker_id=None logprob=0.0 characters=None\n",
      "text='में' start=10.42 end=10.559 type='word' speaker_id=None logprob=0.0 characters=None\n",
      "text=' ' start=10.559 end=10.579 type='spacing' speaker_id=None logprob=0.0 characters=None\n",
      "text='बताना' start=10.579 end=10.939 type='word' speaker_id=None logprob=0.0 characters=None\n",
      "text=' ' start=10.939 end=11.0 type='spacing' speaker_id=None logprob=0.0 characters=None\n",
      "text='चाहता' start=11.0 end=11.359 type='word' speaker_id=None logprob=0.0 characters=None\n",
      "text=' ' start=11.359 end=11.399 type='spacing' speaker_id=None logprob=0.0 characters=None\n",
      "text='हूं।' start=11.399 end=11.979 type='word' speaker_id=None logprob=0.0 characters=None\n",
      "text=' ' start=11.979 end=11.979 type='spacing' speaker_id=None logprob=0.0 characters=None\n",
      "text='मुझे' start=11.979 end=12.139 type='word' speaker_id=None logprob=0.0 characters=None\n",
      "text=' ' start=12.139 end=12.139 type='spacing' speaker_id=None logprob=0.0 characters=None\n",
      "text='इसमें' start=12.139 end=12.36 type='word' speaker_id=None logprob=0.0 characters=None\n",
      "text=' ' start=12.36 end=12.38 type='spacing' speaker_id=None logprob=0.0 characters=None\n",
      "text='कोई' start=12.38 end=12.5 type='word' speaker_id=None logprob=0.0 characters=None\n",
      "text=' ' start=12.5 end=12.519 type='spacing' speaker_id=None logprob=0.0 characters=None\n",
      "text='दिलचस्पी' start=12.519 end=12.939 type='word' speaker_id=None logprob=0.0 characters=None\n",
      "text=' ' start=12.939 end=12.96 type='spacing' speaker_id=None logprob=0.0 characters=None\n",
      "text='नहीं' start=12.96 end=13.079 type='word' speaker_id=None logprob=0.0 characters=None\n",
      "text=' ' start=13.079 end=13.079 type='spacing' speaker_id=None logprob=0.0 characters=None\n",
      "text='है।' start=13.079 end=13.659 type='word' speaker_id=None logprob=0.0 characters=None\n",
      "text=' ' start=13.659 end=13.659 type='spacing' speaker_id=None logprob=0.0 characters=None\n",
      "text='क्या' start=13.659 end=13.779 type='word' speaker_id=None logprob=0.0 characters=None\n",
      "text=' ' start=13.779 end=13.779 type='spacing' speaker_id=None logprob=0.0 characters=None\n",
      "text='आप' start=13.779 end=13.92 type='word' speaker_id=None logprob=0.0 characters=None\n",
      "text=' ' start=13.92 end=13.939 type='spacing' speaker_id=None logprob=0.0 characters=None\n",
      "text='कृपया' start=13.939 end=14.259 type='word' speaker_id=None logprob=0.0 characters=None\n",
      "text=' ' start=14.259 end=14.259 type='spacing' speaker_id=None logprob=0.0 characters=None\n",
      "text='बता' start=14.259 end=14.5 type='word' speaker_id=None logprob=0.0 characters=None\n",
      "text=' ' start=14.5 end=14.579 type='spacing' speaker_id=None logprob=0.0 characters=None\n",
      "text='सकते' start=14.579 end=14.84 type='word' speaker_id=None logprob=0.0 characters=None\n",
      "text=' ' start=14.84 end=14.88 type='spacing' speaker_id=None logprob=0.0 characters=None\n",
      "text='हैं' start=14.88 end=14.98 type='word' speaker_id=None logprob=0.0 characters=None\n",
      "text=' ' start=14.98 end=15.039 type='spacing' speaker_id=None logprob=0.0 characters=None\n",
      "text='कि' start=15.039 end=15.199 type='word' speaker_id=None logprob=0.0 characters=None\n",
      "text=' ' start=15.199 end=15.239 type='spacing' speaker_id=None logprob=0.0 characters=None\n",
      "text='आपको' start=15.239 end=15.579 type='word' speaker_id=None logprob=0.0 characters=None\n",
      "text=' ' start=15.579 end=15.659 type='spacing' speaker_id=None logprob=0.0 characters=None\n",
      "text='किस' start=15.659 end=15.859 type='word' speaker_id=None logprob=0.0 characters=None\n",
      "text=' ' start=15.859 end=15.859 type='spacing' speaker_id=None logprob=0.0 characters=None\n",
      "text='चीज' start=15.859 end=16.079 type='word' speaker_id=None logprob=0.0 characters=None\n",
      "text=' ' start=16.079 end=16.1 type='spacing' speaker_id=None logprob=0.0 characters=None\n",
      "text='में' start=16.1 end=16.18 type='word' speaker_id=None logprob=0.0 characters=None\n",
      "text=' ' start=16.18 end=16.18 type='spacing' speaker_id=None logprob=0.0 characters=None\n",
      "text='दिलचस्पी' start=16.18 end=16.719 type='word' speaker_id=None logprob=0.0 characters=None\n",
      "text=' ' start=16.719 end=16.739 type='spacing' speaker_id=None logprob=0.0 characters=None\n",
      "text='है?' start=16.739 end=16.899 type='word' speaker_id=None logprob=0.0 characters=None\n",
      "text=' ' start=16.899 end=17.34 type='spacing' speaker_id=None logprob=0.0 characters=None\n",
      "text='मुझे' start=17.34 end=17.54 type='word' speaker_id=None logprob=0.0 characters=None\n",
      "text=' ' start=17.54 end=17.579 type='spacing' speaker_id=None logprob=0.0 characters=None\n",
      "text='किसी' start=17.579 end=17.759 type='word' speaker_id=None logprob=0.0 characters=None\n",
      "text=' ' start=17.759 end=17.76 type='spacing' speaker_id=None logprob=0.0 characters=None\n",
      "text='भी' start=17.76 end=17.84 type='word' speaker_id=None logprob=0.0 characters=None\n",
      "text=' ' start=17.84 end=17.879 type='spacing' speaker_id=None logprob=0.0 characters=None\n",
      "text='चीज' start=17.879 end=18.02 type='word' speaker_id=None logprob=0.0 characters=None\n",
      "text=' ' start=18.02 end=18.02 type='spacing' speaker_id=None logprob=0.0 characters=None\n",
      "text='में' start=18.02 end=18.12 type='word' speaker_id=None logprob=0.0 characters=None\n",
      "text=' ' start=18.12 end=18.159 type='spacing' speaker_id=None logprob=0.0 characters=None\n",
      "text='दिलचस्पी' start=18.159 end=18.579 type='word' speaker_id=None logprob=0.0 characters=None\n",
      "text=' ' start=18.579 end=18.619 type='spacing' speaker_id=None logprob=0.0 characters=None\n",
      "text='नहीं' start=18.619 end=18.739 type='word' speaker_id=None logprob=0.0 characters=None\n",
      "text=' ' start=18.739 end=18.739 type='spacing' speaker_id=None logprob=0.0 characters=None\n",
      "text='है।' start=18.739 end=19.279 type='word' speaker_id=None logprob=0.0 characters=None\n",
      "text=' ' start=19.279 end=19.279 type='spacing' speaker_id=None logprob=0.0 characters=None\n",
      "text='ठीक' start=19.279 end=19.479 type='word' speaker_id=None logprob=0.0 characters=None\n",
      "text=' ' start=19.479 end=19.5 type='spacing' speaker_id=None logprob=0.0 characters=None\n",
      "text='है,' start=19.5 end=19.679 type='word' speaker_id=None logprob=0.0 characters=None\n",
      "text=' ' start=19.679 end=19.879 type='spacing' speaker_id=None logprob=0.0 characters=None\n",
      "text='कोई' start=19.879 end=20.019 type='word' speaker_id=None logprob=0.0 characters=None\n",
      "text=' ' start=20.019 end=20.059 type='spacing' speaker_id=None logprob=0.0 characters=None\n",
      "text='बात' start=20.059 end=20.239 type='word' speaker_id=None logprob=0.0 characters=None\n",
      "text=' ' start=20.239 end=20.279 type='spacing' speaker_id=None logprob=0.0 characters=None\n",
      "text='नहीं।' start=20.279 end=20.819 type='word' speaker_id=None logprob=0.0 characters=None\n",
      "text=' ' start=20.819 end=20.819 type='spacing' speaker_id=None logprob=0.0 characters=None\n",
      "text='रहने' start=20.819 end=21.079 type='word' speaker_id=None logprob=0.0 characters=None\n",
      "text=' ' start=21.079 end=21.119 type='spacing' speaker_id=None logprob=0.0 characters=None\n",
      "text='दो।' start=21.119 end=21.579 type='word' speaker_id=None logprob=0.0 characters=None\n"
     ]
    }
   ],
   "source": [
    "for word in result_speech.words:\n",
    "    print(word)"
   ]
  },
  {
   "cell_type": "markdown",
   "id": "c495e4f6",
   "metadata": {},
   "source": [
    "### Using whisper hindi model"
   ]
  },
  {
   "cell_type": "code",
   "execution_count": 12,
   "id": "d1fc0175",
   "metadata": {},
   "outputs": [
    {
     "name": "stderr",
     "output_type": "stream",
     "text": [
      "/home/divyanshu/Downloads/bhaktiKatha/venv/lib/python3.12/site-packages/tqdm/auto.py:21: TqdmWarning: IProgress not found. Please update jupyter and ipywidgets. See https://ipywidgets.readthedocs.io/en/stable/user_install.html\n",
      "  from .autonotebook import tqdm as notebook_tqdm\n"
     ]
    }
   ],
   "source": [
    "import torch\n",
    "from transformers import pipeline"
   ]
  },
  {
   "cell_type": "code",
   "execution_count": 13,
   "id": "e5f78c6b",
   "metadata": {},
   "outputs": [
    {
     "name": "stderr",
     "output_type": "stream",
     "text": [
      "Device set to use cuda:0\n",
      "Using `chunk_length_s` is very experimental with seq2seq models. The results will not necessarily be entirely accurate and will have caveats. More information: https://github.com/huggingface/transformers/pull/20104. Ignore this warning with pipeline(..., ignore_warning=True). To use Whisper for long-form transcription, use rather the model's `generate` method directly as the model relies on it's own chunking mechanism (cf. Whisper original paper, section 3.8. Long-form Transcription).\n",
      "/home/divyanshu/Downloads/bhaktiKatha/venv/lib/python3.12/site-packages/transformers/models/whisper/generation_whisper.py:604: FutureWarning: The input name `inputs` is deprecated. Please make sure to use `input_features` instead.\n",
      "  warnings.warn(\n",
      "Using custom `forced_decoder_ids` from the (generation) config. This is deprecated in favor of the `task` and `language` flags/config options.\n",
      "The attention mask is not set and cannot be inferred from input because pad token is same as eos token. As a consequence, you may observe unexpected behavior. Please pass your input's `attention_mask` to obtain reliable results.\n"
     ]
    },
    {
     "name": "stdout",
     "output_type": "stream",
     "text": [
      "Transcription:  नमस्ते क्या मैं अमित जी से बात कर रहा हूँ हाँ मैं अमित हूँ मैं आपको प्रधानमंत्री किसान ऊर्जा सुरक्षा एवं उत्थान महाभियान पीएम कुसौम योजना के बारे में बताना चाहता हूँ मुझे इसमें कोई दिलचस्पी नहीं है क्या आप कृप्या बता सकते हैं कि आपको किस चीज में दिलचस्पी है मुझे किसी भी चीज में दिलचस्पी नहीं है ठीक है कोई बात नहीं रहने दो\n"
     ]
    }
   ],
   "source": [
    "audio = final_output_path\n",
    "device = \"cuda:0\" if torch.cuda.is_available() else \"cpu\"\n",
    "transcribe = pipeline(task=\"automatic-speech-recognition\", model=\"vasista22/whisper-hindi-small\", chunk_length_s=30, device=device)\n",
    "transcribe.model.config.forced_decoder_ids = transcribe.tokenizer.get_decoder_prompt_ids(language=\"hi\", task=\"transcribe\")\n",
    "print('Transcription: ', transcribe(audio)[\"text\"])"
   ]
  },
  {
   "cell_type": "code",
   "execution_count": 16,
   "id": "33e2b2c2",
   "metadata": {},
   "outputs": [],
   "source": [
    "del transcribe"
   ]
  },
  {
   "cell_type": "code",
   "execution_count": 15,
   "id": "ef2b23f7",
   "metadata": {},
   "outputs": [
    {
     "name": "stdout",
     "output_type": "stream",
     "text": [
      "Collecting assemblyai\n",
      "  Downloading assemblyai-0.42.0-py3-none-any.whl.metadata (27 kB)\n",
      "Requirement already satisfied: httpx>=0.19.0 in ./venv/lib/python3.12/site-packages (from assemblyai) (0.28.1)\n",
      "Requirement already satisfied: pydantic>=1.10.17 in ./venv/lib/python3.12/site-packages (from assemblyai) (2.11.7)\n",
      "Requirement already satisfied: typing-extensions>=3.7 in ./venv/lib/python3.12/site-packages (from assemblyai) (4.14.0)\n",
      "Requirement already satisfied: websockets>=11.0 in ./venv/lib/python3.12/site-packages (from assemblyai) (15.0.1)\n",
      "Requirement already satisfied: anyio in ./venv/lib/python3.12/site-packages (from httpx>=0.19.0->assemblyai) (4.9.0)\n",
      "Requirement already satisfied: certifi in ./venv/lib/python3.12/site-packages (from httpx>=0.19.0->assemblyai) (2024.7.4)\n",
      "Requirement already satisfied: httpcore==1.* in ./venv/lib/python3.12/site-packages (from httpx>=0.19.0->assemblyai) (1.0.9)\n",
      "Requirement already satisfied: idna in ./venv/lib/python3.12/site-packages (from httpx>=0.19.0->assemblyai) (3.7)\n",
      "Requirement already satisfied: h11>=0.16 in ./venv/lib/python3.12/site-packages (from httpcore==1.*->httpx>=0.19.0->assemblyai) (0.16.0)\n",
      "Requirement already satisfied: annotated-types>=0.6.0 in ./venv/lib/python3.12/site-packages (from pydantic>=1.10.17->assemblyai) (0.7.0)\n",
      "Requirement already satisfied: pydantic-core==2.33.2 in ./venv/lib/python3.12/site-packages (from pydantic>=1.10.17->assemblyai) (2.33.2)\n",
      "Requirement already satisfied: typing-inspection>=0.4.0 in ./venv/lib/python3.12/site-packages (from pydantic>=1.10.17->assemblyai) (0.4.1)\n",
      "Requirement already satisfied: sniffio>=1.1 in ./venv/lib/python3.12/site-packages (from anyio->httpx>=0.19.0->assemblyai) (1.3.1)\n",
      "Downloading assemblyai-0.42.0-py3-none-any.whl (49 kB)\n",
      "Installing collected packages: assemblyai\n",
      "Successfully installed assemblyai-0.42.0\n",
      "\n",
      "\u001b[1m[\u001b[0m\u001b[34;49mnotice\u001b[0m\u001b[1;39;49m]\u001b[0m\u001b[39;49m A new release of pip is available: \u001b[0m\u001b[31;49m24.3.1\u001b[0m\u001b[39;49m -> \u001b[0m\u001b[32;49m25.1.1\u001b[0m\n",
      "\u001b[1m[\u001b[0m\u001b[34;49mnotice\u001b[0m\u001b[1;39;49m]\u001b[0m\u001b[39;49m To update, run: \u001b[0m\u001b[32;49mpip install --upgrade pip\u001b[0m\n"
     ]
    }
   ],
   "source": [
    "!pip install assemblyai"
   ]
  },
  {
   "cell_type": "markdown",
   "id": "80e2227a",
   "metadata": {},
   "source": [
    "## Not good for speaker segmentation "
   ]
  },
  {
   "cell_type": "code",
   "execution_count": null,
   "id": "2aa3816c",
   "metadata": {},
   "outputs": [],
   "source": [
    "import assemblyai as aai\n",
    "aai.settings.api_key = \"API_KEY\"\n",
    "audio_file = final_output_path\n",
    "config = aai.TranscriptionConfig(speech_model=aai.SpeechModel.best , language_code=\"hi\", speakers_expected=2, speaker_labels=True)\n",
    "transcript = aai.Transcriber(config=config).transcribe(audio_file)"
   ]
  },
  {
   "cell_type": "code",
   "execution_count": 22,
   "id": "85134b54",
   "metadata": {},
   "outputs": [
    {
     "data": {
      "text/plain": [
       "[Sentence(text='नमस्ते क्या मैं अमित जी ऐसी बात कर रहा हूँ, हाँ मैं अमित.', start=160, end=3180, confidence=0.98207194, speaker='A', channel=None, words=[Word(text='नमस्ते', start=160, end=500, confidence=0.98207194, speaker='A', channel=None), Word(text='क्या', start=720, end=820, confidence=0.9872366, speaker='A', channel=None), Word(text='मैं', start=860, end=940, confidence=0.71843374, speaker='A', channel=None), Word(text='अमित', start=1000, end=1160, confidence=0.9139121, speaker='A', channel=None), Word(text='जी', start=1200, end=1240, confidence=0.9754134, speaker='A', channel=None), Word(text='ऐसी', start=1300, end=1360, confidence=0.8509338, speaker='A', channel=None), Word(text='बात', start=1420, end=1520, confidence=0.9788655, speaker='A', channel=None), Word(text='कर', start=1600, end=1660, confidence=0.9941334, speaker='A', channel=None), Word(text='रहा', start=1720, end=1800, confidence=0.89872503, speaker='A', channel=None), Word(text='हूँ,', start=1840, end=1920, confidence=0.8709089, speaker='A', channel=None), Word(text='हाँ', start=2440, end=2560, confidence=0.84230417, speaker='A', channel=None), Word(text='मैं', start=2860, end=2960, confidence=0.7392571, speaker='A', channel=None), Word(text='अमित.', start=3000, end=3180, confidence=0.95920086, speaker='A', channel=None)]),\n",
       " Sentence(text='हूँ मैं आपको प्रधान.', start=3220, end=4600, confidence=0.83610725, speaker='B', channel=None, words=[Word(text='हूँ', start=3220, end=3280, confidence=0.83610725, speaker='B', channel=None), Word(text='मैं', start=3780, end=3880, confidence=0.7189083, speaker='B', channel=None), Word(text='आपको', start=3940, end=4180, confidence=0.99334574, speaker='B', channel=None), Word(text='प्रधान.', start=4280, end=4600, confidence=0.99079376, speaker='B', channel=None)]),\n",
       " Sentence(text='मंत्री किसान.', start=4680, end=5420, confidence=0.97335136, speaker='A', channel=None, words=[Word(text='मंत्री', start=4680, end=4940, confidence=0.97335136, speaker='A', channel=None), Word(text='किसान.', start=5080, end=5420, confidence=0.9888158, speaker='A', channel=None)]),\n",
       " Sentence(text='उर्जा सुरक्षा.', start=5520, end=6340, confidence=0.9298176, speaker='B', channel=None, words=[Word(text='उर्जा', start=5520, end=5760, confidence=0.9298176, speaker='B', channel=None), Word(text='सुरक्षा.', start=5900, end=6340, confidence=0.9925117, speaker='B', channel=None)]),\n",
       " Sentence(text='एवं उत्थान महाभियान.', start=6600, end=8020, confidence=0.95402586, speaker='A', channel=None, words=[Word(text='एवं', start=6600, end=6860, confidence=0.95402586, speaker='A', channel=None), Word(text='उत्थान', start=6980, end=7400, confidence=0.9516902, speaker='A', channel=None), Word(text='महाभियान.', start=7500, end=8020, confidence=0.9661481, speaker='A', channel=None)]),\n",
       " Sentence(text='पी एम कुसुम.', start=8520, end=9400, confidence=0.92123395, speaker='B', channel=None, words=[Word(text='पी', start=8520, end=8580, confidence=0.92123395, speaker='B', channel=None), Word(text='एम', start=8700, end=8800, confidence=0.86476344, speaker='B', channel=None), Word(text='कुसुम.', start=9020, end=9400, confidence=0.9142089, speaker='B', channel=None)]),\n",
       " Sentence(text='योजना के बारे में बताना चाहता हूँ, मुझे इसमें कोई दिलचस्पी नहीं है.', start=9560, end=13120, confidence=0.99651855, speaker='A', channel=None, words=[Word(text='योजना', start=9560, end=9860, confidence=0.99651855, speaker='A', channel=None), Word(text='के', start=10000, end=10040, confidence=0.9875586, speaker='A', channel=None), Word(text='बारे', start=10140, end=10340, confidence=0.99724686, speaker='A', channel=None), Word(text='में', start=10400, end=10500, confidence=0.9139408, speaker='A', channel=None), Word(text='बताना', start=10560, end=10900, confidence=0.9945657, speaker='A', channel=None), Word(text='चाहता', start=11000, end=11300, confidence=0.99606425, speaker='A', channel=None), Word(text='हूँ,', start=11380, end=11460, confidence=0.9800295, speaker='A', channel=None), Word(text='मुझे', start=11960, end=12120, confidence=0.9926479, speaker='A', channel=None), Word(text='इसमें', start=12180, end=12340, confidence=0.8426222, speaker='A', channel=None), Word(text='कोई', start=12380, end=12460, confidence=0.96160746, speaker='A', channel=None), Word(text='दिलचस्पी', start=12520, end=12860, confidence=0.9790932, speaker='A', channel=None), Word(text='नहीं', start=12940, end=13060, confidence=0.9731911, speaker='A', channel=None), Word(text='है.', start=13080, end=13120, confidence=0.9223093, speaker='A', channel=None)]),\n",
       " Sentence(text='क्या आप कृपया बता सकते है की आपको किस चीज में दिलचस्पी है.', start=13660, end=16760, confidence=0.9405826, speaker='B', channel=None, words=[Word(text='क्या', start=13660, end=13760, confidence=0.9405826, speaker='B', channel=None), Word(text='आप', start=13800, end=13880, confidence=0.95537966, speaker='B', channel=None), Word(text='कृपया', start=13960, end=14200, confidence=0.8938988, speaker='B', channel=None), Word(text='बता', start=14280, end=14460, confidence=0.9908675, speaker='B', channel=None), Word(text='सकते', start=14560, end=14800, confidence=0.9926829, speaker='B', channel=None), Word(text='है', start=14860, end=14920, confidence=0.9723131, speaker='B', channel=None), Word(text='की', start=15040, end=15100, confidence=0.8934688, speaker='B', channel=None), Word(text='आपको', start=15240, end=15520, confidence=0.98916787, speaker='B', channel=None), Word(text='किस', start=15640, end=15760, confidence=0.99507475, speaker='B', channel=None), Word(text='चीज', start=15880, end=16020, confidence=0.9479957, speaker='B', channel=None), Word(text='में', start=16100, end=16160, confidence=0.9078973, speaker='B', channel=None), Word(text='दिलचस्पी', start=16219, end=16620, confidence=0.9656665, speaker='B', channel=None), Word(text='है.', start=16720, end=16760, confidence=0.9624368, speaker='B', channel=None)]),\n",
       " Sentence(text='मुझे किसी भी चीज में दिलचस्पी नहीं है, ठीक है.', start=17360, end=19540, confidence=0.99037325, speaker='A', channel=None, words=[Word(text='मुझे', start=17360, end=17500, confidence=0.99037325, speaker='A', channel=None), Word(text='किसी', start=17580, end=17720, confidence=0.9786679, speaker='A', channel=None), Word(text='भी', start=17780, end=17820, confidence=0.91700995, speaker='A', channel=None), Word(text='चीज', start=17880, end=17980, confidence=0.90930825, speaker='A', channel=None), Word(text='में', start=18040, end=18100, confidence=0.67905974, speaker='A', channel=None), Word(text='दिलचस्पी', start=18160, end=18520, confidence=0.9900175, speaker='A', channel=None), Word(text='नहीं', start=18600, end=18720, confidence=0.9638383, speaker='A', channel=None), Word(text='है,', start=18740, end=18800, confidence=0.9231486, speaker='A', channel=None), Word(text='ठीक', start=19280, end=19400, confidence=0.881679, speaker='A', channel=None), Word(text='है.', start=19480, end=19540, confidence=0.9660235, speaker='A', channel=None)]),\n",
       " Sentence(text='कोई बात नहीं रहने।', start=19880, end=21040, confidence=0.99401385, speaker='B', channel=None, words=[Word(text='कोई', start=19880, end=20000, confidence=0.99401385, speaker='B', channel=None), Word(text='बात', start=20060, end=20180, confidence=0.99614793, speaker='B', channel=None), Word(text='नहीं', start=20240, end=20380, confidence=0.96304893, speaker='B', channel=None), Word(text='रहने।', start=20860, end=21040, confidence=0.9886498, speaker='B', channel=None)]),\n",
       " Sentence(text='2।', start=21120, end=21160, confidence=0.99, speaker='B', channel=None, words=[Word(text='2।', start=21120, end=21160, confidence=0.99, speaker='B', channel=None)])]"
      ]
     },
     "execution_count": 22,
     "metadata": {},
     "output_type": "execute_result"
    }
   ],
   "source": [
    "transcript.get_sentences()"
   ]
  },
  {
   "cell_type": "code",
   "execution_count": null,
   "id": "386798e6",
   "metadata": {},
   "outputs": [],
   "source": []
  }
 ],
 "metadata": {
  "kernelspec": {
   "display_name": "venv",
   "language": "python",
   "name": "python3"
  },
  "language_info": {
   "codemirror_mode": {
    "name": "ipython",
    "version": 3
   },
   "file_extension": ".py",
   "mimetype": "text/x-python",
   "name": "python",
   "nbconvert_exporter": "python",
   "pygments_lexer": "ipython3",
   "version": "3.12.9"
  }
 },
 "nbformat": 4,
 "nbformat_minor": 5
}
